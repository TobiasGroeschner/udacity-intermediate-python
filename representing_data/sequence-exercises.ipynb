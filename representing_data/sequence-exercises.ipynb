{
 "cells": [
  {
   "cell_type": "code",
   "execution_count": 2,
   "metadata": {
    "edited": true,
    "gradable": true,
    "grader_id": "6or3poyqdlj",
    "udacity_user_query": ""
   },
   "outputs": [],
   "source": [
    "# Slicing\n",
    "hello = 'Hello, world!'\n",
    "\n",
    "a = hello[0]  # Turn me into 'H'\n",
    "b = hello[-2]  # Turn me into 'd'\n",
    "c = hello[1:5]  # Turn me into 'ello'\n",
    "d = hello[7:]  # Turn me into 'world!'\n",
    "e = hello[0::2]  # Turn me into 'Hlo ol!' #selects every second character starting from index 0\n",
    "f = hello[::-1]  # Turn me into '!dlrow ,olleH'"
   ]
  },
  {
   "cell_type": "code",
   "execution_count": 12,
   "metadata": {
    "edited": true,
    "gradable": true,
    "grader_id": "f4jl80kvqg",
    "udacity_user_query": ""
   },
   "outputs": [],
   "source": [
    "# Manipulating Strings\n",
    "\n",
    "def make_palindrome(s):\n",
    "    \"\"\"Create a palindrome with the given string as a prefix.\n",
    "    \n",
    "    A palindrome is text that reads the same forwards and backwards.\n",
    "    \n",
    "    :param s: A string to form the prefix of a new palindrome.\n",
    "    \"\"\"\n",
    "    return s + s[::-1]"
   ]
  },
  {
   "cell_type": "code",
   "execution_count": 1,
   "metadata": {
    "edited": true,
    "gradable": true,
    "grader_id": "9ikprap879s",
    "udacity_user_query": ""
   },
   "outputs": [],
   "source": [
    "# Manipulating Lists and Tuples\n",
    "# Write a function to produce the next layer of Pascal's triangle\n",
    "# Each layer is one larger than the previous layer, and each element in\n",
    "# the new layer is the sum of the two elements above it in the previous\n",
    "# layer. For example, `(1, 3, 3, 1) -> (1, 4, 6, 4, 1)`.\n",
    "#\n",
    "# Hint: What does the expression `zip(row + (0,), (0,) + row)` produce?\n",
    "\n",
    "def add_layer(triangle):\n",
    "    # Add a layer to Pascal's triangle.\n",
    "    # Each layer should be a tuple.\n",
    "    previous_layer = triangle[-1]  # Get the last layer\n",
    "    new_layer = tuple(a + b for a, b in zip(previous_layer + (0,), (0,) + previous_layer))\n",
    "    triangle.append(new_layer) \n",
    "    \n",
    "    \n",
    "pascals_triangle = [\n",
    "    (1,),\n",
    "    (1, 1),\n",
    "    (1, 2, 1),\n",
    "    (1, 3, 3, 1),\n",
    "]\n",
    "\n",
    "# Add a few layers, just to check.\n",
    "for _ in range(5):\n",
    "    add_layer(pascals_triangle)"
   ]
  },
  {
   "cell_type": "code",
   "execution_count": null,
   "metadata": {},
   "outputs": [],
   "source": []
  }
 ],
 "metadata": {
  "grader_mode": "",
  "kernelspec": {
   "display_name": "Python 3",
   "language": "python",
   "name": "python3"
  },
  "language_info": {
   "codemirror_mode": {
    "name": "ipython",
    "version": 3
   },
   "file_extension": ".py",
   "mimetype": "text/x-python",
   "name": "python",
   "nbconvert_exporter": "python",
   "pygments_lexer": "ipython3",
   "version": "3.6.3"
  },
  "showGradeBtn": true
 },
 "nbformat": 4,
 "nbformat_minor": 2
}
