{
 "cells": [
  {
   "cell_type": "code",
   "execution_count": 25,
   "metadata": {
    "edited": true,
    "gradable": true,
    "grader_id": "fj71dq4ufpp",
    "udacity_user_query": ""
   },
   "outputs": [],
   "source": [
    "# Practice with map\n",
    "# Fill out the rest of the map functions.\n",
    "# You can define additional functions if you need to.\n",
    "# (a) [\"apple\", \"orange\", \"pear\"] => (5, 6, 4)  (length)\n",
    "# (b) [\"apple\", \"orange\", \"pear\"] => (\"APPLE\", \"ORANGE\", \"PEAR\")  (uppercase)\n",
    "# (c) [\"apple\", \"orange\", \"pear\"] => (\"elppa\", \"egnaro\", \"raep\")  (reversed)\n",
    "# (d) [\"apple\", \"orange\", \"pear\"] => (\"ap\", \"or\", \"pe\")  (first two letters)\n",
    "\n",
    "\n",
    "a = tuple(map(len, [\"apple\", \"orange\", \"pear\"]))\n",
    "b = tuple(map(str.upper, [\"apple\", \"orange\", \"pear\"]))\n",
    "c = tuple(map(lambda x: x[::-1], [\"apaple\", \"orange\", \"pear\"]))\n",
    "d = tuple(map(lambda x: x[0:2], [\"apaple\", \"orange\", \"pear\"]))\n"
   ]
  },
  {
   "cell_type": "code",
   "execution_count": 29,
   "metadata": {},
   "outputs": [
    {
     "name": "stdout",
     "output_type": "stream",
     "text": [
      "(5, 6, 4)\n",
      "('APPLE', 'ORANGE', 'PEAR')\n",
      "('elpapa', 'egnaro', 'raep')\n",
      "('ap', 'or', 'pe')\n"
     ]
    }
   ],
   "source": [
    "print(a)\n",
    "print(b)\n",
    "print(c)\n",
    "print(d)"
   ]
  },
  {
   "cell_type": "code",
   "execution_count": 41,
   "metadata": {
    "edited": true,
    "gradable": true,
    "grader_id": "l9khmvn88t",
    "udacity_user_query": ""
   },
   "outputs": [],
   "source": [
    "# Practice with filter\n",
    "# Fill out the rest of the filter functions.\n",
    "# You can define additional functions if you need to.\n",
    "# (a) range(100) => (0, 3, 6, 9, ...)  (div by 3)\n",
    "# (b) range(100) => (0, 5, 10, 15, ...)  (div by 5)\n",
    "# (c) range(100) => (0, 15, 30, 45, ...)  (div by 15)\n",
    "# (d) range(100) => (1, 2, 4, 7, 8, 11, 13, 14, 16, 17, ...)  (not div by 3 and not div by 5)\n",
    "\n",
    "a = tuple(filter(lambda x: x % 3 == 0, range(100)))\n",
    "b = tuple(filter(lambda x: x % 5 == 0, range(100)))\n",
    "c = tuple(filter(lambda x: x % 15 == 0, range(100)))\n",
    "d = tuple(filter(lambda x: (x % 3 != 0) & (x % 5 != 0) , range(100)))"
   ]
  },
  {
   "cell_type": "code",
   "execution_count": null,
   "metadata": {},
   "outputs": [],
   "source": []
  }
 ],
 "metadata": {
  "grader_mode": "",
  "kernelspec": {
   "display_name": "Python 3",
   "language": "python",
   "name": "python3"
  },
  "language_info": {
   "codemirror_mode": {
    "name": "ipython",
    "version": 3
   },
   "file_extension": ".py",
   "mimetype": "text/x-python",
   "name": "python",
   "nbconvert_exporter": "python",
   "pygments_lexer": "ipython3",
   "version": "3.6.3"
  },
  "showGradeBtn": true
 },
 "nbformat": 4,
 "nbformat_minor": 2
}
