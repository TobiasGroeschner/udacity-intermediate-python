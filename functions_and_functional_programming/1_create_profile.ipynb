{
 "cells": [
  {
   "cell_type": "markdown",
   "metadata": {},
   "source": [
    "# Exercise: Create Profile\n",
    "\n",
    "In this exercise, you'll write a function named `create_profile`. This function should require at least one positional argument (someone's given name, and a variadic collection of surnames or modifiers) and must handle a variadic collection of keyword-specified arguments with details from a profile.\n",
    "\n",
    "You'll need to define the function signature so that it can be called in the following valid ways:"
   ]
  },
  {
   "cell_type": "code",
   "execution_count": null,
   "metadata": {},
   "outputs": [],
   "source": [
    "create_profile('Sam')\n",
    "create_profile('Sam', role='Instructor')\n",
    "create_profile('Martin', 'Luther', 'King', 'Jr', born=1929, died=1968)\n",
    "create_profile(\"Sebastian\", \"Thrun\", cofounded=\"Udacity\", experience=\"Stanford Professor\")"
   ]
  },
  {
   "cell_type": "code",
   "execution_count": 3,
   "metadata": {},
   "outputs": [],
   "source": [
    "def create_profile(name = 'Sam'):\n",
    "    print(name)\n",
    "\n",
    "\n",
    "def create_profile(name, role='Instructor'):\n",
    "    print(name)\n",
    "    print(role)\n",
    "\n"
   ]
  },
  {
   "cell_type": "code",
   "execution_count": 17,
   "metadata": {},
   "outputs": [],
   "source": [
    "def create_profile(name, *lastname,  **details):\n",
    "    print(name, *lastname)\n",
    "    for key, value in details.items():\n",
    "        print(key, value, sep =\": \")"
   ]
  },
  {
   "cell_type": "code",
   "execution_count": 19,
   "metadata": {},
   "outputs": [
    {
     "name": "stdout",
     "output_type": "stream",
     "text": [
      "Martin Luther King Jr\n",
      "born: 1929\n",
      "died: 1968\n"
     ]
    }
   ],
   "source": [
    "create_profile('Martin', 'Luther', 'King', 'Jr', born=1929, died=1968)"
   ]
  },
  {
   "cell_type": "code",
   "execution_count": 20,
   "metadata": {},
   "outputs": [
    {
     "name": "stdout",
     "output_type": "stream",
     "text": [
      "Sebastian Thrun\n",
      "cofounded: Udacity\n",
      "experience: Stanford Professor\n"
     ]
    }
   ],
   "source": [
    "create_profile(\"Sebastian\", \"Thrun\", cofounded=\"Udacity\", experience=\"Stanford Professor\")"
   ]
  }
 ],
 "metadata": {
  "kernelspec": {
   "display_name": "tutorials-EtMFBOnO-py3.9",
   "language": "python",
   "name": "python3"
  },
  "language_info": {
   "codemirror_mode": {
    "name": "ipython",
    "version": 3
   },
   "file_extension": ".py",
   "mimetype": "text/x-python",
   "name": "python",
   "nbconvert_exporter": "python",
   "pygments_lexer": "ipython3",
   "version": "3.9.16"
  }
 },
 "nbformat": 4,
 "nbformat_minor": 2
}
